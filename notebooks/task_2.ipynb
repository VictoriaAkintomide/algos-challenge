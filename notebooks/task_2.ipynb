{
  "nbformat": 4,
  "nbformat_minor": 0,
  "metadata": {
    "orig_nbformat": 2,
    "colab": {
      "name": "task_2.ipynb",
      "provenance": []
    },
    "kernelspec": {
      "name": "python3",
      "display_name": "Python 3"
    }
  },
  "cells": [
    {
      "cell_type": "markdown",
      "metadata": {
        "id": "rgJFB1i-FNli"
      },
      "source": [
        "## Task 4\r\n",
        "\r\n",
        "Exploring Multi level KPI scoring - the code currently works optimizing for Engagement Rate in the BetaMatrix class in the bandit_functions.py script. What could be the best approach in tackling optimizing for multiple KPIs? Where would you go about making these changes?\r\n"
      ]
    },
    {
      "cell_type": "markdown",
      "metadata": {
        "id": "faYU9SssrR-M"
      },
      "source": [
        "The best approach in tackling optimizing for multiple KPIs. \r\n",
        "\r\n",
        "Multi-KPI optimization is the solution to meet the multiple KPI goals. eg( Click Through Rate, Engagement Rate, \r\n",
        "\r\n",
        "An approach that can be useful is soft optimization. The steps involved in this approach includes:\r\n",
        "1) Selecting the features\r\n",
        "\r\n",
        "2) Generating KPI scoring models\r\n",
        "\r\n",
        "3) Validating the models\r\n",
        "\r\n",
        "4) Configuring the scoring models\r\n",
        "\r\n",
        "4) Evaluating the models\r\n",
        "\r\n",
        "5) Scoring each request by using the models\r\n",
        "\r\n",
        "6) Bidding a request if the weighted sum of scores meets the weighted threshold value\r\n",
        "\r\n",
        "The bid areas are defined by the KPI threshold values and KPI priorities, or weights for all KPIs."
      ]
    }
  ]
}